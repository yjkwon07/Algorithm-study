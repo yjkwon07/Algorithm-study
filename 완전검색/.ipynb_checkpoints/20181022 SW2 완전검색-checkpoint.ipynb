{
 "cells": [
  {
   "cell_type": "markdown",
   "metadata": {},
   "source": [
    "# 완전검색\n",
    "\n",
    "## 학습목표 \n",
    "    1. 완전 검색의 개념을 이해하고 완전 검색을 통한 문제 해결 방법에 대해 설명할 수 있다.\n",
    "    2. 조합적 문제(Combinational Problem)와 완전 검색의 연관성에 대해 팡가할 수 있다.\n",
    "    3. 순열, 조합, 부분집합을 생성하는 방법에대해 설명할 수 있다.\n",
    "    "
   ]
  },
  {
   "cell_type": "markdown",
   "metadata": {},
   "source": [
    "# 1. 완전 검색기법\n",
    "1) Baby Gin 문제\n",
    "* 완전 검색 \n",
    "            -> 고지식한 방법(Brute - force)\n",
    "            -> 생성 및 테스트(Generate and Test)\n",
    "- 문제의 해(Solution)를 찾기위해 가능한 모든 경우들을 나열해 보고 확인하는 기법\n",
    "- 문제를 해결하기 위한 가장 쉬운 접근법\n",
    "- 거의 대부분의 문제에 적용 가능 \n",
    "(빠른 시간에 해를 구하는 것은 아니다)\n",
    "- 주어진 문제의 자료의 수가 적거난 문제의 크기가 작을 때 유용\n",
    "  \n",
    "  * 검색해봐야 할 가능한 모든 경우의 수가 적음\n",
    "   1. 주사위 2개를 던지면 나올 수 있는 경우의 수는 총 36가지 \n",
    "   2. 10개의 제비 중 당첨 제비가 1개월일 때 제비를 하나씩 보면서 찾는다면 가능한 경우의 수는 최대 10가지 \n",
    "       "
   ]
  },
  {
   "cell_type": "markdown",
   "metadata": {},
   "source": [
    "2) 고지식한 검색(순차 검색, Sequential Search)\n",
    "- 리스트에서 키 값을 찾기 위한 완전 검색 방법\n",
    "                        \n",
    "        SequetnialSEarch( A [0 ..... n ] , key) -> 배열 A와 key값을 매개변수로 받는 함수\n",
    "            A[n] < - key \n",
    "            i < - 0\n",
    "            WHILE A[i] != key\n",
    "                i++\n",
    "                // 성공 시 키 값의 인덱스 값을 반환 \n",
    "                // 실패시 -1 반환\n",
    "            IF i < n : return i // 성공\n",
    "            ELSE     : return -1 // 실패\n",
    "- 리스트에 키 값이 존재하지 않는다는 것을 확신 -> 모든 자료에 대해 키 값과 비교 작업 수행\n",
    "- 리스트에 포함된 자료의 크기 N이 증가 -> 비교획수도 \"비례해서 증가\" "
   ]
  },
  {
   "cell_type": "markdown",
   "metadata": {},
   "source": [
    "## 완전 검색\n",
    "- 문제 해결을 위한 __가장 단순한__ 방법 \n",
    "- 문제의 크기가 커지면 시간 복잡도가 매우 __크게 증가__\n",
    "- 현실 세계의 문제들 중 다수는 해를 다항시간에 찾을 수 있는 알고리즘이 존재하지 않음"
   ]
  },
  {
   "cell_type": "markdown",
   "metadata": {},
   "source": [
    "- __모든 경우의 수를 생성, 테스트__ \n",
    "- 수행속도는 느림, 해답을 찾아내지 못할 확류이 낮음\n",
    "- 입력의 크기가 __작은__ 경우의 알고리즘 설계\n",
    "    * 그리디 기법\n",
    "    * 동적계획법"
   ]
  },
  {
   "cell_type": "markdown",
   "metadata": {},
   "source": [
    "- 좋은 해결방법이 생각나지 않는다? -> 완전검색 -> 성능 개선을 위해서는? \n",
    "- 학술적 또는 교육적 목적 \n",
    "- __알고리즘의 효율성__ 평가 및 판단 척도"
   ]
  },
  {
   "cell_type": "markdown",
   "metadata": {},
   "source": [
    "## 베이비진에 대한 완전검색 해결\n",
    "1. 6개 숫자로 만들 수 있는 모든 순열을 만들어 보고 베이비진인지를 테스트하여 판별\n",
    "2. 6개 중 3개 선택 시 남은 3개는 하나의 선택이 됨\n",
    "3. 단순 순열 생성 시 불필요한 중복 작업 수행\n",
    "    - 모든 경우를 나열하는 과정에서 중복된 경우들 생성\n",
    "    - 중복을 제거할 수 있다면 ? 계산 시간 줄일 수 있음\n",
    "    "
   ]
  },
  {
   "cell_type": "code",
   "execution_count": null,
   "metadata": {},
   "outputs": [],
   "source": []
  }
 ],
 "metadata": {
  "kernelspec": {
   "display_name": "Python 3",
   "language": "python",
   "name": "python3"
  },
  "language_info": {
   "codemirror_mode": {
    "name": "ipython",
    "version": 3
   },
   "file_extension": ".py",
   "mimetype": "text/x-python",
   "name": "python",
   "nbconvert_exporter": "python",
   "pygments_lexer": "ipython3",
   "version": "3.6.4"
  }
 },
 "nbformat": 4,
 "nbformat_minor": 2
}
