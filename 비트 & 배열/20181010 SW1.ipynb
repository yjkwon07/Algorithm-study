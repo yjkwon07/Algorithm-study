{
 "cells": [
  {
   "cell_type": "markdown",
   "metadata": {},
   "source": [
    "# 알고리즘 "
   ]
  },
  {
   "cell_type": "markdown",
   "metadata": {},
   "source": [
    "## 비트 연산자 \n",
    "- &\n",
    "- |\n",
    "- ^ \n",
    "- ~ \n",
    "- <<\n",
    "- >>\n",
    "다른 연산자들에 비해 실행 시간이 적게 소요됨 <br>\n",
    "연산 속도 향상, 메모리 절약 가능 <br>\n",
    "ex) 변수에 저장된 양의 정수 값이 홀수 혹은 짝수인지 판별: 모듈러 연산자(N%2) \n",
    "\n",
    "마지막 비트 값이 1인지 0인지 판단: 비트단위 & 연산(N & 1)\n"
   ]
  },
  {
   "cell_type": "markdown",
   "metadata": {},
   "source": [
    "1 << n <br>\n",
    "2^n의 값을 가짐 <br> \n",
    "원소가 n개일 경우의 모든 부분집합의 수를 의미 <br>\n",
    "Power set(모든 부분 집합)<br>\n",
    "- 공집합과 자기 자신을 포함한 모든 부분집합 \n",
    "- 각 원소가 포함되거나 포함되지 않는 2가지 경우의 수를 계산하면 모든 부분집합의 수 계산가능\n"
   ]
  },
  {
   "cell_type": "markdown",
   "metadata": {},
   "source": [
    "---"
   ]
  },
  {
   "cell_type": "markdown",
   "metadata": {},
   "source": [
    "i & (1 << j)\n",
    "- 특정 위치의 비트 값이 1인지 0인지 판별하고 싶을 때 사용\n",
    "- 계산 결과: i의 j번째 비트가 1인지 아닌지 의미 "
   ]
  },
  {
   "cell_type": "code",
   "execution_count": 2,
   "metadata": {},
   "outputs": [
    {
     "name": "stdout",
     "output_type": "stream",
     "text": [
      "-5\n",
      "1 1 1 1 1 0 1 1 \n",
      "-4\n",
      "1 1 1 1 1 1 0 0 \n",
      "-3\n",
      "1 1 1 1 1 1 0 1 \n",
      "-2\n",
      "1 1 1 1 1 1 1 0 \n",
      "-1\n",
      "1 1 1 1 1 1 1 1 \n",
      "0\n",
      "0 0 0 0 0 0 0 0 \n",
      "1\n",
      "0 0 0 0 0 0 0 1 \n",
      "2\n",
      "0 0 0 0 0 0 1 0 \n",
      "3\n",
      "0 0 0 0 0 0 1 1 \n",
      "4\n",
      "0 0 0 0 0 1 0 0 \n",
      "5\n",
      "0 0 0 0 0 1 0 1 \n",
      "6\n",
      "0 0 0 0 0 1 1 0 \n"
     ]
    }
   ],
   "source": [
    "def bitprint(i):\n",
    "    for j in range(7,-1,-1):\n",
    "        if((i & (1 << j ))):\n",
    "            print(1, end=\" \")\n",
    "        else:\n",
    "            print(0, end= \" \")\n",
    "for i in range(-5, 7,1):\n",
    "    print(i)\n",
    "    bitprint(i)\n",
    "    print()"
   ]
  },
  {
   "cell_type": "code",
   "execution_count": 6,
   "metadata": {},
   "outputs": [
    {
     "name": "stdout",
     "output_type": "stream",
     "text": [
      "16\n",
      "0 0 0 1 0 0 0 0 "
     ]
    }
   ],
   "source": [
    "a = 0x10\n",
    "x = 0x01020304\n",
    "print(int(a))\n",
    "bitprint(a)"
   ]
  },
  {
   "cell_type": "code",
   "execution_count": 7,
   "metadata": {},
   "outputs": [
    {
     "name": "stdout",
     "output_type": "stream",
     "text": [
      "16909060\n",
      "0 0 0 0 0 1 0 0 \n",
      "0 0 0 0 0 1 0 0 \n",
      "0 0 0 0 0 1 0 0 \n",
      "0 0 0 0 0 1 0 0 \n"
     ]
    }
   ],
   "source": [
    "print(int(x))\n",
    "for i in range(0,4):\n",
    "    bitprint(x)\n",
    "    print()"
   ]
  },
  {
   "cell_type": "markdown",
   "metadata": {},
   "source": [
    "16진수 한자리 값은 2진수 네 개의 비트값으로 저장 <br>\n",
    "한 바이트씩 읽어 출력하면 역순 저장 확인가능!"
   ]
  },
  {
   "cell_type": "markdown",
   "metadata": {},
   "source": [
    "## 엔디안(Endianness)\n",
    "- 컴퓨터의 메모리와 같은 일차원의 공간에 여러 개의 연속된 대상을 배열하는 방법\n",
    "- 하드웨어(HW) 아키텍처마다 다름\n",
    "- 속도 향상을 위해 바이트 단위와 워드 단위 변환 연산 시 올바로 이해하지 않으면 오류 발생\n",
    "\n",
    "1) 빅 엔디안(Big - endian): 보통 큰 단위가 앞에 나옴(네트워크)\n",
    "\n",
    "2) 리트 엔디안(Little - endian): 작은 단위가 앞에 나옴(대다수 데스크탑 컴퓨터)\n",
    "\n",
    "- 빅 엔디안 0x1234 -> 12 34 0x12345678 -> 12 34 56 78\n",
    "- 리틀 엔디안 0x1234 -> 34 12 0x12345678 -> 78 56 34 12 "
   ]
  },
  {
   "cell_type": "code",
   "execution_count": 8,
   "metadata": {},
   "outputs": [],
   "source": [
    "n = 0x00111111"
   ]
  },
  {
   "cell_type": "markdown",
   "metadata": {},
   "source": [
    "<h2><a href=\"https://github.com/yjkwon07/Algorithm-study/blob/master/%EB%B9%84%ED%8A%B8%20%26%20%EB%B0%B0%EC%97%B4/%EC%97%94%EB%94%94%EC%95%88.cpp\">엔디안 코드</a></h2>"
   ]
  },
  {
   "cell_type": "markdown",
   "metadata": {},
   "source": [
    "<h2><a href= \"https://github.com/yjkwon07/Algorithm-study/blob/master/%EB%B9%84%ED%8A%B8%20%26%20%EB%B0%B0%EC%97%B4/%EC%97%94%EB%94%94%EC%95%88%20%EB%B3%80%ED%99%98%20%EC%BD%94%EB%93%9C.cpp\"> 엔디안 변환 코드 </a></h2>"
   ]
  },
  {
   "cell_type": "markdown",
   "metadata": {},
   "source": [
    "32bit 장치(machine) ->(데이터 전송) 32bit 버스 선 (bus line) 활용한 메모리 엑세스\n",
    "\n",
    "- 프로세서의 성능 향상 -> 주소버스가 4의 배수형태의 주소만 access\n",
    "- 어떤 객체(4byte)가 4의 배수형 주소에 있지 않다면 메모리 access를 2번 해야함\n",
    "\n",
    "<h2> 변수 별 저장 가능한 주소의 번지 패턴 </h2>\n",
    "\n",
    "1. 1byte 형: 모든 주소 번지에 기록 가능\n",
    "2. 2byte 형: 2byte boundary에 정렬\n",
    "3. 4byte 형: 4byte boundary에 정렬\n",
    "4. Double (8byte) 형: windows에서는 8byte, 리눅스에서는 4byte boundary (배열은 그 형에 따라 boundary 결정)\n",
    "\n",
    "<h2> Structure Byte Padding </h2>\n",
    "\n",
    "- 구조체의 멤버들 사이에 임의의공간이 생기는 현상(padding byte)\n",
    "- 구조체의 경우 멤버 중 가장 큰 데이터 타입의 배수 값으로 크기가 결정 \n",
    "<pre>\n",
    "char Data1;\n",
    "short Data2;\n",
    "int Data3;\n",
    "char Data4; \n",
    "총 12 byte\n",
    "</pre>\n",
    "<pre>\n",
    "char Data1; \n",
    "char Padding0[1]; // short는 2의 배수 \n",
    "short Data2; \n",
    "int Data3; \n",
    "char Data4;\n",
    "char Padding1[3]; // 패딩\n",
    "총 8 byte\n",
    "</pre>\n",
    "\n",
    "- 단정도 실수(32비트) \n",
    " 부호 1비트 / 지수 8비트 / 가수23비트 \n",
    "- 배정도 실수 (64비트)\n",
    " 부호 1비트 / 지수 11비트 / 가수 52비트 \n",
    " \n",
    " * 가수부(mantissa)\n",
    "     실수의 유효 자릿수들을 부호화된 고정 소수점으로 표현한 것\n",
    " * 지수부(exponent)\n",
    "     실제 소수점의 위치를 지수 승으로 표현 한 것\n",
    " \n",
    " <h2> 단정도 실수의 가수 부분을 만드는 방법 </h2>\n",
    " 1001.0011\n",
    " \n",
    " 1. 정수부의 첫 번째 자리가 1이 되도록 오른쪽으로 시프트 \n",
    " 2. 소수점 이하를 23비트로 만듦\n",
    " 3. 소수점 이하만을 가수 부분에 저장\n",
    " 4. 지수 부분은 시프트 한 자릿수 만큼 증가 또는 감소 \n",
    "     * 단정도 실수 표현 -> 0/ 10000010 / 00100110000000000000000\n",
    " \n",
    " <h2> 단정도 실수의 지수 부분을 만드는 방법 </h2> \n",
    " \n",
    " - 지수부에는 8비트 배정(256개의 상태를 나타낼 수 있음)\n",
    " - 숫자로 0~255까지 표현 가능, 음수값을 나타낼 수 있어야 하므로 익세스(excess)표현법 사용 \n",
    " \n",
    " * 익세스 표현법\n",
    "    - 지수부의 값을 반으로 나누어 그 값을 0으로 간주하여 음수지수와 양수지수를 표현하는 방법\n",
    " \n",
    " <h2> 컴퓨터는 실수를 근사적으로 표현 </h2>\n",
    " \n",
    " - 정확한 십진수의 실수 값을 이진수로 표현할 수 없음\n",
    " - 이진수로 표현 할 수 없는 실수는 근사값으로 저장\n",
    " - 작은 오차가 계산 과정에서 다른 결과를 가져 올 수 있음 - > 오차에 항상 주의 \n",
    " \n",
    " <h2> 실수 자료형 표현에서 가능한 유효 숫자의 자릿수를 알아 두는게 좋음 </h2>\n",
    " 32비트 실수형 유효자릿수(십진수) - > 6 <br>\n",
    " 64비트 실수형 유효자릿수(십진수) - > 15\n",
    " "
   ]
  }
 ],
 "metadata": {
  "kernelspec": {
   "display_name": "Python 3",
   "language": "python",
   "name": "python3"
  },
  "language_info": {
   "codemirror_mode": {
    "name": "ipython",
    "version": 3
   },
   "file_extension": ".py",
   "mimetype": "text/x-python",
   "name": "python",
   "nbconvert_exporter": "python",
   "pygments_lexer": "ipython3",
   "version": "3.6.4"
  }
 },
 "nbformat": 4,
 "nbformat_minor": 2
}
